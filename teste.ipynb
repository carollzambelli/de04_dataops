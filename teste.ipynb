{
 "cells": [
  {
   "cell_type": "code",
   "execution_count": 1,
   "metadata": {},
   "outputs": [],
   "source": [
    "import mysql.connector"
   ]
  },
  {
   "cell_type": "code",
   "execution_count": 2,
   "metadata": {},
   "outputs": [],
   "source": [
    "con = mysql.connector.connect(\n",
    "            user='root', password='root', port=\"3306\", host = 'localhost', database='db')"
   ]
  },
  {
   "cell_type": "code",
   "execution_count": 3,
   "metadata": {},
   "outputs": [],
   "source": [
    "cursor = con.cursor()\n",
    "cursor.execute('Select * FROM cadastro')\n",
    "cadastro = cursor.fetchall()"
   ]
  },
  {
   "cell_type": "code",
   "execution_count": 4,
   "metadata": {},
   "outputs": [
    {
     "data": {
      "text/plain": [
       "[(1,\n",
       "  'female',\n",
       "  'Miss',\n",
       "  'Victoria',\n",
       "  'Lambert',\n",
       "  'Gloucester',\n",
       "  'Rutland',\n",
       "  'United Kingdom',\n",
       "  'victoria.lambert@example.com',\n",
       "  datetime.date(1965, 6, 20),\n",
       "  datetime.datetime(2024, 3, 16, 0, 0)),\n",
       " (2,\n",
       "  'female',\n",
       "  'Ms',\n",
       "  'سارینا',\n",
       "  'قاسمی',\n",
       "  'خمینی\\u200cشهر',\n",
       "  'بوشهر',\n",
       "  'Iran',\n",
       "  'sryn.qsmy@example.com',\n",
       "  datetime.date(1961, 2, 10),\n",
       "  datetime.datetime(2024, 4, 10, 0, 20, 8)),\n",
       " (3,\n",
       "  'female',\n",
       "  'Mrs',\n",
       "  'Shanaya',\n",
       "  'Padmanabha',\n",
       "  'Akola',\n",
       "  'Uttarakhand',\n",
       "  'India',\n",
       "  'shanaya.padmanabha@example.com',\n",
       "  datetime.date(1959, 8, 15),\n",
       "  datetime.datetime(2024, 4, 10, 0, 20, 8)),\n",
       " (4,\n",
       "  'male',\n",
       "  'Mr',\n",
       "  'Winfried',\n",
       "  'Ter Maat',\n",
       "  'Haarle gem Tubbergen',\n",
       "  'Drenthe',\n",
       "  'Netherlands',\n",
       "  'winfried.termaat@example.com',\n",
       "  datetime.date(1994, 5, 24),\n",
       "  datetime.datetime(2024, 4, 10, 0, 20, 8)),\n",
       " (5,\n",
       "  'male',\n",
       "  'Mr',\n",
       "  'Charlie',\n",
       "  'Wright',\n",
       "  'Taupo',\n",
       "  \"Hawke'S Bay\",\n",
       "  'New Zealand',\n",
       "  'charlie.wright@example.com',\n",
       "  datetime.date(1958, 11, 29),\n",
       "  datetime.datetime(2024, 4, 10, 0, 20, 8)),\n",
       " (6,\n",
       "  'female',\n",
       "  'Miss',\n",
       "  'Imogen',\n",
       "  'Johnson',\n",
       "  'Tauranga',\n",
       "  'Marlborough',\n",
       "  'New Zealand',\n",
       "  'imogen.johnson@example.com',\n",
       "  datetime.date(1968, 2, 3),\n",
       "  datetime.datetime(2024, 4, 10, 0, 20, 8))]"
      ]
     },
     "execution_count": 4,
     "metadata": {},
     "output_type": "execute_result"
    }
   ],
   "source": [
    "cadastro"
   ]
  },
  {
   "cell_type": "code",
   "execution_count": null,
   "metadata": {},
   "outputs": [],
   "source": []
  }
 ],
 "metadata": {
  "kernelspec": {
   "display_name": "Python 3",
   "language": "python",
   "name": "python3"
  },
  "language_info": {
   "codemirror_mode": {
    "name": "ipython",
    "version": 3
   },
   "file_extension": ".py",
   "mimetype": "text/x-python",
   "name": "python",
   "nbconvert_exporter": "python",
   "pygments_lexer": "ipython3",
   "version": "3.11.4"
  }
 },
 "nbformat": 4,
 "nbformat_minor": 2
}
