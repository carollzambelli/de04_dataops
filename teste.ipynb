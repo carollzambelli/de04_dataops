{
 "cells": [
  {
   "cell_type": "code",
   "execution_count": 1,
   "metadata": {},
   "outputs": [],
   "source": [
    "import mysql.connector"
   ]
  },
  {
   "cell_type": "code",
   "execution_count": 2,
   "metadata": {},
   "outputs": [],
   "source": [
    "con = mysql.connector.connect(\n",
    "            user='root', password='root', port=\"3306\", database='db')"
   ]
  },
  {
   "cell_type": "code",
   "execution_count": 3,
   "metadata": {},
   "outputs": [],
   "source": [
    "cursor = con.cursor()\n",
    "cursor.execute('Select * FROM cadastro')\n",
    "cadastro = cursor.fetchall()"
   ]
  },
  {
   "cell_type": "code",
   "execution_count": 4,
   "metadata": {},
   "outputs": [
    {
     "data": {
      "text/plain": [
       "[(1,\n",
       "  'female',\n",
       "  'Miss',\n",
       "  'Victoria',\n",
       "  'Lambert',\n",
       "  'Gloucester',\n",
       "  'Rutland',\n",
       "  'United Kingdom',\n",
       "  'victoria.lambert@example.com',\n",
       "  datetime.date(1965, 6, 20),\n",
       "  datetime.datetime(2024, 3, 16, 0, 0)),\n",
       " (2,\n",
       "  'male',\n",
       "  'Mr',\n",
       "  'Emilio',\n",
       "  'Nordli',\n",
       "  'Brønnøysund',\n",
       "  'Hordaland',\n",
       "  'Norway',\n",
       "  'emilio.nordli@example.com',\n",
       "  datetime.date(1960, 2, 25),\n",
       "  datetime.datetime(2024, 4, 3, 0, 50, 3)),\n",
       " (3,\n",
       "  'male',\n",
       "  'Mr',\n",
       "  'Bogdan',\n",
       "  'Isaković',\n",
       "  'Kula',\n",
       "  'Pomoravlje',\n",
       "  'Serbia',\n",
       "  'bogdan.isakovic@example.com',\n",
       "  datetime.date(1973, 10, 15),\n",
       "  datetime.datetime(2024, 4, 3, 0, 50, 3)),\n",
       " (4,\n",
       "  'female',\n",
       "  'Mrs',\n",
       "  'Hannah',\n",
       "  'Patel',\n",
       "  'Lasalle',\n",
       "  'Nunavut',\n",
       "  'Canada',\n",
       "  'hannah.patel@example.com',\n",
       "  datetime.date(1972, 5, 26),\n",
       "  datetime.datetime(2024, 4, 3, 0, 50, 3)),\n",
       " (5,\n",
       "  'female',\n",
       "  'Ms',\n",
       "  'Julia',\n",
       "  'Benítez',\n",
       "  'Vigo',\n",
       "  'Región de Murcia',\n",
       "  'Spain',\n",
       "  'julia.benitez@example.com',\n",
       "  datetime.date(1973, 7, 27),\n",
       "  datetime.datetime(2024, 4, 3, 0, 50, 3)),\n",
       " (6,\n",
       "  'female',\n",
       "  'Miss',\n",
       "  'Gonca',\n",
       "  'Erberk',\n",
       "  'Burdur',\n",
       "  'Kars',\n",
       "  'Turkey',\n",
       "  'gonca.erberk@example.com',\n",
       "  datetime.date(1982, 11, 4),\n",
       "  datetime.datetime(2024, 4, 3, 0, 50, 3))]"
      ]
     },
     "execution_count": 4,
     "metadata": {},
     "output_type": "execute_result"
    }
   ],
   "source": [
    "cadastro"
   ]
  },
  {
   "cell_type": "code",
   "execution_count": null,
   "metadata": {},
   "outputs": [],
   "source": []
  }
 ],
 "metadata": {
  "kernelspec": {
   "display_name": "Python 3",
   "language": "python",
   "name": "python3"
  },
  "language_info": {
   "codemirror_mode": {
    "name": "ipython",
    "version": 3
   },
   "file_extension": ".py",
   "mimetype": "text/x-python",
   "name": "python",
   "nbconvert_exporter": "python",
   "pygments_lexer": "ipython3",
   "version": "3.11.4"
  }
 },
 "nbformat": 4,
 "nbformat_minor": 2
}
